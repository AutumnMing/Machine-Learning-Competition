{
 "cells": [
  {
   "cell_type": "code",
   "execution_count": 1,
   "metadata": {
    "pycharm": {
     "name": "#%%\n"
    }
   },
   "outputs": [],
   "source": [
    "from itertools import chain\n",
    "from functools import reduce\n",
    "import pandas as pd\n",
    "import numpy as np\n",
    "import os"
   ]
  },
  {
   "cell_type": "markdown",
   "metadata": {
    "collapsed": false,
    "pycharm": {
     "name": "#%% md\n"
    }
   },
   "source": [
    "# 民宿价格预测, 数据预处理"
   ]
  },
  {
   "cell_type": "markdown",
   "metadata": {},
   "source": [
    "## 一、数据读取"
   ]
  },
  {
   "cell_type": "code",
   "execution_count": 2,
   "metadata": {
    "pycharm": {
     "name": "#%%\n"
    }
   },
   "outputs": [
    {
     "data": {
      "text/plain": [
       "['提交样例.csv', '测试集.csv', '训练集.csv']"
      ]
     },
     "execution_count": 2,
     "metadata": {},
     "output_type": "execute_result"
    }
   ],
   "source": [
    "data_path = r'C://Users//86199//Documents//Datas//hey_whale//C1'\n",
    "os.chdir(data_path)\n",
    "os.listdir()"
   ]
  },
  {
   "cell_type": "code",
   "execution_count": 3,
   "metadata": {
    "pycharm": {
     "name": "#%%\n"
    }
   },
   "outputs": [
    {
     "data": {
      "text/html": [
       "<div>\n",
       "<style scoped>\n",
       "    .dataframe tbody tr th:only-of-type {\n",
       "        vertical-align: middle;\n",
       "    }\n",
       "\n",
       "    .dataframe tbody tr th {\n",
       "        vertical-align: top;\n",
       "    }\n",
       "\n",
       "    .dataframe thead th {\n",
       "        text-align: right;\n",
       "    }\n",
       "</style>\n",
       "<table border=\"1\" class=\"dataframe\">\n",
       "  <thead>\n",
       "    <tr style=\"text-align: right;\">\n",
       "      <th></th>\n",
       "      <th>容纳人数</th>\n",
       "      <th>便利设施</th>\n",
       "      <th>洗手间数量</th>\n",
       "      <th>床的数量</th>\n",
       "      <th>床的类型</th>\n",
       "      <th>卧室数量</th>\n",
       "      <th>取消条款</th>\n",
       "      <th>所在城市</th>\n",
       "      <th>清洁费</th>\n",
       "      <th>首次评论日期</th>\n",
       "      <th>...</th>\n",
       "      <th>最近评论日期</th>\n",
       "      <th>维度</th>\n",
       "      <th>经度</th>\n",
       "      <th>民宿周边</th>\n",
       "      <th>评论个数</th>\n",
       "      <th>房产类型</th>\n",
       "      <th>民宿评分</th>\n",
       "      <th>房型</th>\n",
       "      <th>邮编</th>\n",
       "      <th>价格</th>\n",
       "    </tr>\n",
       "    <tr>\n",
       "      <th>数据ID</th>\n",
       "      <th></th>\n",
       "      <th></th>\n",
       "      <th></th>\n",
       "      <th></th>\n",
       "      <th></th>\n",
       "      <th></th>\n",
       "      <th></th>\n",
       "      <th></th>\n",
       "      <th></th>\n",
       "      <th></th>\n",
       "      <th></th>\n",
       "      <th></th>\n",
       "      <th></th>\n",
       "      <th></th>\n",
       "      <th></th>\n",
       "      <th></th>\n",
       "      <th></th>\n",
       "      <th></th>\n",
       "      <th></th>\n",
       "      <th></th>\n",
       "      <th></th>\n",
       "    </tr>\n",
       "  </thead>\n",
       "  <tbody>\n",
       "    <tr>\n",
       "      <th>train_0</th>\n",
       "      <td>4</td>\n",
       "      <td>{TV,\"Cable TV\",Internet,\"Wireless Internet\",\"A...</td>\n",
       "      <td>1.5</td>\n",
       "      <td>3.0</td>\n",
       "      <td>4</td>\n",
       "      <td>2.0</td>\n",
       "      <td>0</td>\n",
       "      <td>3</td>\n",
       "      <td>0</td>\n",
       "      <td>2015-05-07</td>\n",
       "      <td>...</td>\n",
       "      <td>2016-06-26</td>\n",
       "      <td>34.109039</td>\n",
       "      <td>-118.273390</td>\n",
       "      <td>Los Feliz</td>\n",
       "      <td>12</td>\n",
       "      <td>17</td>\n",
       "      <td>97.0</td>\n",
       "      <td>0</td>\n",
       "      <td>90027</td>\n",
       "      <td>64.918531</td>\n",
       "    </tr>\n",
       "    <tr>\n",
       "      <th>train_1</th>\n",
       "      <td>2</td>\n",
       "      <td>{TV,\"Wireless Internet\",Kitchen,\"Free parking ...</td>\n",
       "      <td>1.0</td>\n",
       "      <td>1.0</td>\n",
       "      <td>4</td>\n",
       "      <td>1.0</td>\n",
       "      <td>2</td>\n",
       "      <td>4</td>\n",
       "      <td>1</td>\n",
       "      <td>2016-07-02</td>\n",
       "      <td>...</td>\n",
       "      <td>2016-07-31</td>\n",
       "      <td>40.812897</td>\n",
       "      <td>-73.919163</td>\n",
       "      <td>Mott Haven</td>\n",
       "      <td>6</td>\n",
       "      <td>0</td>\n",
       "      <td>87.0</td>\n",
       "      <td>0</td>\n",
       "      <td>10454</td>\n",
       "      <td>54.918531</td>\n",
       "    </tr>\n",
       "    <tr>\n",
       "      <th>train_2</th>\n",
       "      <td>4</td>\n",
       "      <td>{TV,\"Air conditioning\",Kitchen,Heating,\"Smoke ...</td>\n",
       "      <td>1.0</td>\n",
       "      <td>2.0</td>\n",
       "      <td>4</td>\n",
       "      <td>0.0</td>\n",
       "      <td>2</td>\n",
       "      <td>4</td>\n",
       "      <td>1</td>\n",
       "      <td>2017-07-01</td>\n",
       "      <td>...</td>\n",
       "      <td>2017-07-31</td>\n",
       "      <td>40.737643</td>\n",
       "      <td>-73.953309</td>\n",
       "      <td>Greenpoint</td>\n",
       "      <td>4</td>\n",
       "      <td>0</td>\n",
       "      <td>80.0</td>\n",
       "      <td>0</td>\n",
       "      <td>11222</td>\n",
       "      <td>73.219281</td>\n",
       "    </tr>\n",
       "    <tr>\n",
       "      <th>train_3</th>\n",
       "      <td>2</td>\n",
       "      <td>{}</td>\n",
       "      <td>1.0</td>\n",
       "      <td>1.0</td>\n",
       "      <td>4</td>\n",
       "      <td>1.0</td>\n",
       "      <td>0</td>\n",
       "      <td>5</td>\n",
       "      <td>1</td>\n",
       "      <td>NaN</td>\n",
       "      <td>...</td>\n",
       "      <td>NaN</td>\n",
       "      <td>37.759935</td>\n",
       "      <td>-122.420558</td>\n",
       "      <td>Mission District</td>\n",
       "      <td>0</td>\n",
       "      <td>0</td>\n",
       "      <td>NaN</td>\n",
       "      <td>1</td>\n",
       "      <td>94110</td>\n",
       "      <td>64.093909</td>\n",
       "    </tr>\n",
       "    <tr>\n",
       "      <th>train_4</th>\n",
       "      <td>3</td>\n",
       "      <td>{Internet,\"Wireless Internet\",\"Air conditionin...</td>\n",
       "      <td>1.0</td>\n",
       "      <td>1.0</td>\n",
       "      <td>4</td>\n",
       "      <td>1.0</td>\n",
       "      <td>1</td>\n",
       "      <td>4</td>\n",
       "      <td>1</td>\n",
       "      <td>2014-04-30</td>\n",
       "      <td>...</td>\n",
       "      <td>2016-05-22</td>\n",
       "      <td>40.683363</td>\n",
       "      <td>-73.949490</td>\n",
       "      <td>Bedford-Stuyvesant</td>\n",
       "      <td>16</td>\n",
       "      <td>0</td>\n",
       "      <td>99.0</td>\n",
       "      <td>0</td>\n",
       "      <td>11216</td>\n",
       "      <td>68.454901</td>\n",
       "    </tr>\n",
       "  </tbody>\n",
       "</table>\n",
       "<p>5 rows × 25 columns</p>\n",
       "</div>"
      ],
      "text/plain": [
       "         容纳人数                                               便利设施  洗手间数量  床的数量  \\\n",
       "数据ID                                                                            \n",
       "train_0     4  {TV,\"Cable TV\",Internet,\"Wireless Internet\",\"A...    1.5   3.0   \n",
       "train_1     2  {TV,\"Wireless Internet\",Kitchen,\"Free parking ...    1.0   1.0   \n",
       "train_2     4  {TV,\"Air conditioning\",Kitchen,Heating,\"Smoke ...    1.0   2.0   \n",
       "train_3     2                                                 {}    1.0   1.0   \n",
       "train_4     3  {Internet,\"Wireless Internet\",\"Air conditionin...    1.0   1.0   \n",
       "\n",
       "         床的类型  卧室数量  取消条款  所在城市  清洁费      首次评论日期  ...      最近评论日期         维度  \\\n",
       "数据ID                                              ...                          \n",
       "train_0     4   2.0     0     3    0  2015-05-07  ...  2016-06-26  34.109039   \n",
       "train_1     4   1.0     2     4    1  2016-07-02  ...  2016-07-31  40.812897   \n",
       "train_2     4   0.0     2     4    1  2017-07-01  ...  2017-07-31  40.737643   \n",
       "train_3     4   1.0     0     5    1         NaN  ...         NaN  37.759935   \n",
       "train_4     4   1.0     1     4    1  2014-04-30  ...  2016-05-22  40.683363   \n",
       "\n",
       "                 经度                民宿周边  评论个数 房产类型  民宿评分  房型     邮编         价格  \n",
       "数据ID                                                                            \n",
       "train_0 -118.273390           Los Feliz    12   17  97.0   0  90027  64.918531  \n",
       "train_1  -73.919163          Mott Haven     6    0  87.0   0  10454  54.918531  \n",
       "train_2  -73.953309          Greenpoint     4    0  80.0   0  11222  73.219281  \n",
       "train_3 -122.420558    Mission District     0    0   NaN   1  94110  64.093909  \n",
       "train_4  -73.949490  Bedford-Stuyvesant    16    0  99.0   0  11216  68.454901  \n",
       "\n",
       "[5 rows x 25 columns]"
      ]
     },
     "execution_count": 3,
     "metadata": {},
     "output_type": "execute_result"
    }
   ],
   "source": [
    "train = pd.read_csv('训练集.csv').set_index('数据ID')\n",
    "test = pd.read_csv('测试集.csv').set_index('数据ID')\n",
    "df = pd.concat([train, test])\n",
    "df.head()"
   ]
  },
  {
   "cell_type": "code",
   "execution_count": 4,
   "metadata": {
    "collapsed": false,
    "pycharm": {
     "name": "#%%\n"
    }
   },
   "outputs": [
    {
     "name": "stdout",
     "output_type": "stream",
     "text": [
      "<class 'pandas.core.frame.DataFrame'>\n",
      "Index: 74111 entries, train_0 to test_14822\n",
      "Data columns (total 25 columns):\n",
      " #   Column       Non-Null Count  Dtype  \n",
      "---  ------       --------------  -----  \n",
      " 0   容纳人数         74111 non-null  int64  \n",
      " 1   便利设施         74111 non-null  object \n",
      " 2   洗手间数量        73911 non-null  float64\n",
      " 3   床的数量         73980 non-null  float64\n",
      " 4   床的类型         74111 non-null  int64  \n",
      " 5   卧室数量         74020 non-null  float64\n",
      " 6   取消条款         74111 non-null  int64  \n",
      " 7   所在城市         74111 non-null  int64  \n",
      " 8   清洁费          74111 non-null  int64  \n",
      " 9   首次评论日期       58247 non-null  object \n",
      " 10  房主是否有个人资料图片  73923 non-null  object \n",
      " 11  房主身份是否验证     73923 non-null  object \n",
      " 12  房主回复率        55812 non-null  object \n",
      " 13  何时成为房主       73923 non-null  object \n",
      " 14  是否支持随即预订     74111 non-null  int64  \n",
      " 15  最近评论日期       58284 non-null  object \n",
      " 16  维度           74111 non-null  float64\n",
      " 17  经度           74111 non-null  float64\n",
      " 18  民宿周边         67239 non-null  object \n",
      " 19  评论个数         74111 non-null  int64  \n",
      " 20  房产类型         74111 non-null  int64  \n",
      " 21  民宿评分         57389 non-null  float64\n",
      " 22  房型           74111 non-null  int64  \n",
      " 23  邮编           73145 non-null  object \n",
      " 24  价格           59288 non-null  float64\n",
      "dtypes: float64(7), int64(9), object(9)\n",
      "memory usage: 14.7+ MB\n"
     ]
    }
   ],
   "source": [
    "df.info()"
   ]
  },
  {
   "cell_type": "markdown",
   "metadata": {
    "collapsed": false,
    "pycharm": {
     "name": "#%% md\n"
    }
   },
   "source": [
    "## 二、非结构化数据, 便利设施字段分析研究"
   ]
  },
  {
   "cell_type": "markdown",
   "metadata": {},
   "source": [
    "#### 2.1 单字段，单个样本研究"
   ]
  },
  {
   "cell_type": "code",
   "execution_count": 5,
   "metadata": {
    "collapsed": false,
    "pycharm": {
     "name": "#%%\n"
    }
   },
   "outputs": [
    {
     "name": "stdout",
     "output_type": "stream",
     "text": [
      "{TV,\"Cable TV\",Internet,\"Wireless Internet\",\"Air conditioning\",Kitchen,\"Pets live on this property\",Dog(s),\"Hot tub\",Heating,Washer,Dryer,\"Smoke detector\",\"Fire extinguisher\",Essentials,\"translation missing: en.hosting_amenity_49\",\"translation missing: en.hosting_amenity_50\"}\n",
      "<class 'str'>\n",
      "['TV', '\"Cable TV\"', 'Internet', '\"Wireless Internet\"', '\"Air conditioning\"', 'Kitchen', '\"Pets live on this property\"', 'Dog(s)', '\"Hot tub\"', 'Heating', 'Washer', 'Dryer', '\"Smoke detector\"', '\"Fire extinguisher\"', 'Essentials', '\"translation missing: en.hosting_amenity_49\"', '\"translation missing: en.hosting_amenity_50\"']\n"
     ]
    }
   ],
   "source": [
    "str_a = df['便利设施'][0]\n",
    "print(str_a)\n",
    "print(type(str_a))\n",
    "list_a = str_a[1:-1].split(',')\n",
    "print(list_a) # 存在翻译缺失"
   ]
  },
  {
   "cell_type": "markdown",
   "metadata": {},
   "source": [
    "#### 2.2 循环遍历提取字段信息"
   ]
  },
  {
   "cell_type": "code",
   "execution_count": 6,
   "metadata": {},
   "outputs": [],
   "source": [
    "# 对每一行的便利设施字符串进行处理\n",
    "list_b = [each[1:-1].split(',') for each in df['便利设施'].tolist()]\n",
    "# 获取所有样本的便利设施信息\n",
    "type_list = list_b[0]\n",
    "for each_list in list_b[1:]:\n",
    "    for each in each_list:\n",
    "        type_list.append(each)"
   ]
  },
  {
   "cell_type": "markdown",
   "metadata": {},
   "source": [
    "#### 2.3 主要特征——便利设施"
   ]
  },
  {
   "cell_type": "code",
   "execution_count": 7,
   "metadata": {},
   "outputs": [
    {
     "data": {
      "text/html": [
       "<div>\n",
       "<style scoped>\n",
       "    .dataframe tbody tr th:only-of-type {\n",
       "        vertical-align: middle;\n",
       "    }\n",
       "\n",
       "    .dataframe tbody tr th {\n",
       "        vertical-align: top;\n",
       "    }\n",
       "\n",
       "    .dataframe thead th {\n",
       "        text-align: right;\n",
       "    }\n",
       "</style>\n",
       "<table border=\"1\" class=\"dataframe\">\n",
       "  <thead>\n",
       "    <tr style=\"text-align: right;\">\n",
       "      <th></th>\n",
       "      <th>name</th>\n",
       "    </tr>\n",
       "  </thead>\n",
       "  <tbody>\n",
       "    <tr>\n",
       "      <th>0</th>\n",
       "      <td>TV</td>\n",
       "    </tr>\n",
       "    <tr>\n",
       "      <th>1</th>\n",
       "      <td>\"Cable TV\"</td>\n",
       "    </tr>\n",
       "    <tr>\n",
       "      <th>2</th>\n",
       "      <td>Internet</td>\n",
       "    </tr>\n",
       "    <tr>\n",
       "      <th>3</th>\n",
       "      <td>\"Wireless Internet\"</td>\n",
       "    </tr>\n",
       "    <tr>\n",
       "      <th>4</th>\n",
       "      <td>\"Air conditioning\"</td>\n",
       "    </tr>\n",
       "  </tbody>\n",
       "</table>\n",
       "</div>"
      ],
      "text/plain": [
       "                  name\n",
       "0                   TV\n",
       "1           \"Cable TV\"\n",
       "2             Internet\n",
       "3  \"Wireless Internet\"\n",
       "4   \"Air conditioning\""
      ]
     },
     "execution_count": 7,
     "metadata": {},
     "output_type": "execute_result"
    }
   ],
   "source": [
    "type_df = pd.DataFrame(type_list, columns=['name'])\n",
    "type_df.head()"
   ]
  },
  {
   "cell_type": "code",
   "execution_count": 8,
   "metadata": {},
   "outputs": [
    {
     "name": "stdout",
     "output_type": "stream",
     "text": [
      "<class 'pandas.core.frame.DataFrame'>\n",
      "RangeIndex: 1304532 entries, 0 to 1304531\n",
      "Data columns (total 1 columns):\n",
      " #   Column  Non-Null Count    Dtype \n",
      "---  ------  --------------    ----- \n",
      " 0   name    1304532 non-null  object\n",
      "dtypes: object(1)\n",
      "memory usage: 10.0+ MB\n"
     ]
    }
   ],
   "source": [
    "type_df.info()"
   ]
  },
  {
   "cell_type": "markdown",
   "metadata": {},
   "source": [
    "#### 2.3 最受欢迎的十大便利设施"
   ]
  },
  {
   "cell_type": "code",
   "execution_count": 15,
   "metadata": {},
   "outputs": [
    {
     "data": {
      "text/html": [
       "<div>\n",
       "<style scoped>\n",
       "    .dataframe tbody tr th:only-of-type {\n",
       "        vertical-align: middle;\n",
       "    }\n",
       "\n",
       "    .dataframe tbody tr th {\n",
       "        vertical-align: top;\n",
       "    }\n",
       "\n",
       "    .dataframe thead th {\n",
       "        text-align: right;\n",
       "    }\n",
       "</style>\n",
       "<table border=\"1\" class=\"dataframe\">\n",
       "  <thead>\n",
       "    <tr style=\"text-align: right;\">\n",
       "      <th></th>\n",
       "      <th>name</th>\n",
       "      <th>value</th>\n",
       "    </tr>\n",
       "  </thead>\n",
       "  <tbody>\n",
       "    <tr>\n",
       "      <th>0</th>\n",
       "      <td>\"Wireless Internet\"</td>\n",
       "      <td>71265</td>\n",
       "    </tr>\n",
       "    <tr>\n",
       "      <th>1</th>\n",
       "      <td>Kitchen</td>\n",
       "      <td>67526</td>\n",
       "    </tr>\n",
       "    <tr>\n",
       "      <th>2</th>\n",
       "      <td>Heating</td>\n",
       "      <td>67073</td>\n",
       "    </tr>\n",
       "    <tr>\n",
       "      <th>3</th>\n",
       "      <td>Essentials</td>\n",
       "      <td>64005</td>\n",
       "    </tr>\n",
       "    <tr>\n",
       "      <th>4</th>\n",
       "      <td>\"Smoke detector\"</td>\n",
       "      <td>61727</td>\n",
       "    </tr>\n",
       "    <tr>\n",
       "      <th>5</th>\n",
       "      <td>\"Air conditioning\"</td>\n",
       "      <td>55210</td>\n",
       "    </tr>\n",
       "    <tr>\n",
       "      <th>6</th>\n",
       "      <td>TV</td>\n",
       "      <td>52458</td>\n",
       "    </tr>\n",
       "    <tr>\n",
       "      <th>7</th>\n",
       "      <td>Shampoo</td>\n",
       "      <td>49465</td>\n",
       "    </tr>\n",
       "    <tr>\n",
       "      <th>8</th>\n",
       "      <td>Hangers</td>\n",
       "      <td>49173</td>\n",
       "    </tr>\n",
       "    <tr>\n",
       "      <th>9</th>\n",
       "      <td>\"Carbon monoxide detector\"</td>\n",
       "      <td>47190</td>\n",
       "    </tr>\n",
       "  </tbody>\n",
       "</table>\n",
       "</div>"
      ],
      "text/plain": [
       "                         name  value\n",
       "0         \"Wireless Internet\"  71265\n",
       "1                     Kitchen  67526\n",
       "2                     Heating  67073\n",
       "3                  Essentials  64005\n",
       "4            \"Smoke detector\"  61727\n",
       "5          \"Air conditioning\"  55210\n",
       "6                          TV  52458\n",
       "7                     Shampoo  49465\n",
       "8                     Hangers  49173\n",
       "9  \"Carbon monoxide detector\"  47190"
      ]
     },
     "execution_count": 15,
     "metadata": {},
     "output_type": "execute_result"
    }
   ],
   "source": [
    "type_nums = type_df.groupby('name').agg(value = ('name', 'count')).sort_values(by='value', ascending=False).reset_index()\n",
    "# type_nums = type_nums.assign( per = type_nums['value'] / len(type_list))\n",
    "type_nums.head(10)"
   ]
  },
  {
   "cell_type": "code",
   "execution_count": 19,
   "metadata": {},
   "outputs": [
    {
     "name": "stdout",
     "output_type": "stream",
     "text": [
      "['\"Wireless Internet\"', 'Kitchen', 'Heating', 'Essentials', '\"Smoke detector\"', '\"Air conditioning\"', 'TV', 'Shampoo', 'Hangers', '\"Carbon monoxide detector\"']\n"
     ]
    }
   ],
   "source": [
    "main_types = type_nums.head(10)['name'].tolist()\n",
    "print(main_types)"
   ]
  },
  {
   "cell_type": "code",
   "execution_count": null,
   "metadata": {},
   "outputs": [],
   "source": []
  }
 ],
 "metadata": {
  "kernelspec": {
   "display_name": "Python 3.9.7 ('base')",
   "language": "python",
   "name": "python3"
  },
  "language_info": {
   "codemirror_mode": {
    "name": "ipython",
    "version": 3
   },
   "file_extension": ".py",
   "mimetype": "text/x-python",
   "name": "python",
   "nbconvert_exporter": "python",
   "pygments_lexer": "ipython3",
   "version": "3.9.7"
  },
  "orig_nbformat": 4,
  "vscode": {
   "interpreter": {
    "hash": "e3a3f3e84e13e7f0b6dfcdad3b18f9a88df5de9b6f179f5a2a046880cc59bb9c"
   }
  }
 },
 "nbformat": 4,
 "nbformat_minor": 2
}
