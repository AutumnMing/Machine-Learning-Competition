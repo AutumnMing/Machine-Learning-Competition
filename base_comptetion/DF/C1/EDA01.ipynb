{
 "cells": [
  {
   "cell_type": "code",
   "execution_count": 1,
   "metadata": {},
   "outputs": [
    {
     "name": "stdout",
     "output_type": "stream",
     "text": [
      "pandas的版本为: 1.3.4\n",
      "seaborn的版本为: 0.11.2\n",
      "numpy的版本为1.20.3\n",
      "已切换至数据路径: \n",
      "c:\\Users\\86199\\Documents\\GitHub\\DataAnalysis\\DF\\C1\n",
      "数据路径存在文件: \n",
      "['submit_example.csv', 'test_without_label.csv', 'wsdm_train_data']\n"
     ]
    }
   ],
   "source": [
    "import pandas as pd\n",
    "import numpy as np\n",
    "from sklearn.preprocessing import StandardScaler\n",
    "# 自定义设置 # 添加根目录路径到搜索列表\n",
    "import sys\n",
    "sys.path.append(r'C:\\Users\\86199\\Documents\\GitHub\\DataAnalysis')\n",
    "from my_setting import my_pd_setting,my_np_setting,my_sns_setting,data_path\n",
    "from my_stat import get_col_dtypes, missing, drop_columns, des_classifi\n",
    "my_pd_setting()\n",
    "my_sns_setting()\n",
    "my_np_setting()\n",
    "filepath= r'C:\\Users\\86199\\Documents\\Datas\\DF\\C1'\n",
    "filename = data_path(filepath=filepath)"
   ]
  }
 ],
 "metadata": {
  "interpreter": {
   "hash": "2ae9f92d1a19527aa82e85442fc943cadca02cdf7197f925cc26292ecddf8930"
  },
  "kernelspec": {
   "display_name": "Python 3.9.7 64-bit ('base': conda)",
   "language": "python",
   "name": "python3"
  },
  "language_info": {
   "codemirror_mode": {
    "name": "ipython",
    "version": 3
   },
   "file_extension": ".py",
   "mimetype": "text/x-python",
   "name": "python",
   "nbconvert_exporter": "python",
   "pygments_lexer": "ipython3",
   "version": "3.9.7"
  },
  "orig_nbformat": 4
 },
 "nbformat": 4,
 "nbformat_minor": 2
}
