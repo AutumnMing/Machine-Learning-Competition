{
 "cells": [
  {
   "cell_type": "code",
   "execution_count": 1,
   "metadata": {},
   "outputs": [
    {
     "name": "stdout",
     "output_type": "stream",
     "text": [
      "pandas的版本为: 1.3.4\n",
      "seaborn的版本为: 0.11.2\n",
      "numpy的版本为1.20.3\n",
      "当前脚本路径: \n",
      "c:\\Users\\86199\\Documents\\GitHub\\DataAnalysis\\DC\\C2\n",
      "数据存储路径: \n",
      "C:\\Users\\86199\\Documents\\Datas\\DC\\C2\n",
      "数据路径存在文件: \n",
      "['2021厦门国际银行数创金融杯金融营销建模大赛-初赛数据描述.pdf', '主表数据', '其他数据表']\n"
     ]
    }
   ],
   "source": [
    "import pandas as pd\n",
    "import numpy as np\n",
    "import os\n",
    "from sklearn.preprocessing import StandardScaler\n",
    "# 自定义设置 # 添加根目录路径到搜索列表\n",
    "import sys\n",
    "sys.path.append(r'C:\\Users\\86199\\Documents\\GitHub\\DataAnalysis')\n",
    "from my_setting import my_pd_setting,my_np_setting,my_sns_setting,data_path\n",
    "from my_stat import get_col_dtypes, missing, drop_columns, des_classifi\n",
    "my_pd_setting()\n",
    "my_sns_setting()\n",
    "my_np_setting()\n",
    "filepath= r'C:\\Users\\86199\\Documents\\Datas\\DC\\C2'\n",
    "filename = data_path(filepath=filepath)"
   ]
  },
  {
   "cell_type": "code",
   "execution_count": 2,
   "metadata": {},
   "outputs": [
    {
     "name": "stdout",
     "output_type": "stream",
     "text": [
      "主表数据文件:\n",
      "['x_test.csv', 'x_train.csv', 'y_train.csv']\n",
      "其余表格数据文件:\n",
      "['d.csv', 'e.csv', 'f.csv', 'g.csv', 'h.csv', 'i.csv', 'j.csv', 'k.csv', 'l.csv', 'm.csv', 'n.csv', 'o.csv', 'p.csv', 'q.csv', 'r.csv', 's.csv']\n"
     ]
    }
   ],
   "source": [
    "print('主表数据文件:')\n",
    "print(os.listdir('.\\主表数据'))\n",
    "print('其余表格数据文件:')\n",
    "print(os.listdir('.\\其他数据表'))\n"
   ]
  },
  {
   "cell_type": "code",
   "execution_count": null,
   "metadata": {},
   "outputs": [],
   "source": [
    "filepath = '.\\其他数据表' + '\\\\' +'d.csv'\n",
    "x_train = pd.read_csv(filepath)\n",
    "x_train.head()"
   ]
  },
  {
   "cell_type": "code",
   "execution_count": null,
   "metadata": {},
   "outputs": [],
   "source": []
  }
 ],
 "metadata": {
  "interpreter": {
   "hash": "2ae9f92d1a19527aa82e85442fc943cadca02cdf7197f925cc26292ecddf8930"
  },
  "kernelspec": {
   "display_name": "Python 3.9.7 64-bit ('base': conda)",
   "language": "python",
   "name": "python3"
  },
  "language_info": {
   "codemirror_mode": {
    "name": "ipython",
    "version": 3
   },
   "file_extension": ".py",
   "mimetype": "text/x-python",
   "name": "python",
   "nbconvert_exporter": "python",
   "pygments_lexer": "ipython3",
   "version": "3.9.7"
  },
  "orig_nbformat": 4
 },
 "nbformat": 4,
 "nbformat_minor": 2
}
