{
 "cells": [
  {
   "cell_type": "code",
   "execution_count": 2,
   "metadata": {},
   "outputs": [
    {
     "name": "stdout",
     "output_type": "stream",
     "text": [
      "pandas的版本为: 1.3.4\n",
      "seaborn的版本为: 0.11.2\n",
      "numpy的版本为1.20.3\n",
      "已切换至数据路径: \n",
      "C:\\Users\\86199\\Documents\\Datas\\DC\\C2\n",
      "数据路径存在文件: \n",
      "['2021厦门国际银行数创金融杯金融营销建模大赛-初赛数据描述.pdf', '主表数据', '其他数据表']\n"
     ]
    }
   ],
   "source": [
    "import pandas as pd\n",
    "import numpy as np\n",
    "import os\n",
    "from sklearn.preprocessing import StandardScaler\n",
    "# 自定义设置 # 添加根目录路径到搜索列表\n",
    "import sys\n",
    "sys.path.append(r'C:\\Users\\86199\\Documents\\GitHub\\DataAnalysis')\n",
    "from my_setting import my_pd_setting,my_np_setting,my_sns_setting,data_path\n",
    "from my_stat import get_col_dtypes, missing, drop_columns, des_classifi\n",
    "my_pd_setting()\n",
    "my_sns_setting()\n",
    "my_np_setting()\n",
    "filepath= r'C:\\Users\\86199\\Documents\\Datas\\DC\\C2'\n",
    "filename = data_path(filepath=filepath)"
   ]
  },
  {
   "cell_type": "code",
   "execution_count": 4,
   "metadata": {},
   "outputs": [
    {
     "name": "stdout",
     "output_type": "stream",
     "text": [
      "主表数据文件:\n",
      "['x_test.csv', 'x_train.csv', 'y_train.csv']\n",
      "其余表格数据文件:\n",
      "['d.csv', 'e.csv', 'f.csv', 'g.csv', 'h.csv', 'i.csv', 'j.csv', 'k.csv', 'l.csv', 'm.csv', 'n.csv', 'o.csv', 'p.csv', 'q.csv', 'r.csv', 's.csv']\n"
     ]
    }
   ],
   "source": [
    "print('主表数据文件:')\n",
    "print(os.listdir('.\\主表数据'))\n",
    "print('其余表格数据文件:')\n",
    "print(os.listdir('.\\其他数据表'))"
   ]
  },
  {
   "cell_type": "code",
   "execution_count": 9,
   "metadata": {},
   "outputs": [
    {
     "data": {
      "text/html": [
       "<div>\n",
       "<style scoped>\n",
       "    .dataframe tbody tr th:only-of-type {\n",
       "        vertical-align: middle;\n",
       "    }\n",
       "\n",
       "    .dataframe tbody tr th {\n",
       "        vertical-align: top;\n",
       "    }\n",
       "\n",
       "    .dataframe thead th {\n",
       "        text-align: right;\n",
       "    }\n",
       "</style>\n",
       "<table border=\"1\" class=\"dataframe\">\n",
       "  <thead>\n",
       "    <tr style=\"text-align: left;\">\n",
       "      <th></th>\n",
       "      <th>id</th>\n",
       "      <th>core_cust_id</th>\n",
       "      <th>prod_code</th>\n",
       "      <th>a2</th>\n",
       "      <th>a3</th>\n",
       "    </tr>\n",
       "  </thead>\n",
       "  <tbody>\n",
       "    <tr>\n",
       "      <th>0</th>\n",
       "      <td>4e3c3d57b83e425f8087b1d6d32a50f7</td>\n",
       "      <td>6e2105d9fe</td>\n",
       "      <td>90318011</td>\n",
       "      <td>4</td>\n",
       "      <td>2021-08-01</td>\n",
       "    </tr>\n",
       "    <tr>\n",
       "      <th>1</th>\n",
       "      <td>aa83c5fc05414c4d9727f0b32882f80e</td>\n",
       "      <td>6e2105d9fe</td>\n",
       "      <td>GRHLA20211530</td>\n",
       "      <td>1</td>\n",
       "      <td>2021-09-01</td>\n",
       "    </tr>\n",
       "    <tr>\n",
       "      <th>2</th>\n",
       "      <td>11245458ed6446cd9f88d57a5fc1d957</td>\n",
       "      <td>6e2105d9fe</td>\n",
       "      <td>DECD21090102</td>\n",
       "      <td>2</td>\n",
       "      <td>2021-09-01</td>\n",
       "    </tr>\n",
       "    <tr>\n",
       "      <th>3</th>\n",
       "      <td>359a03ecc46240d9bc00eef58dbc85e3</td>\n",
       "      <td>6e2105d9fe</td>\n",
       "      <td>GRHLA20211119</td>\n",
       "      <td>1</td>\n",
       "      <td>2021-08-01</td>\n",
       "    </tr>\n",
       "    <tr>\n",
       "      <th>4</th>\n",
       "      <td>7a5d79036dfb46acb7348e741ab00d9f</td>\n",
       "      <td>6e2105d9fe</td>\n",
       "      <td>GRHLA20211125</td>\n",
       "      <td>1</td>\n",
       "      <td>2021-08-01</td>\n",
       "    </tr>\n",
       "  </tbody>\n",
       "</table>\n",
       "</div>"
      ],
      "text/plain": [
       "  id                                core_cust_id prod_code       a2  \\\n",
       "0  4e3c3d57b83e425f8087b1d6d32a50f7  6e2105d9fe        90318011  4    \n",
       "1  aa83c5fc05414c4d9727f0b32882f80e  6e2105d9fe   GRHLA20211530  1    \n",
       "2  11245458ed6446cd9f88d57a5fc1d957  6e2105d9fe    DECD21090102  2    \n",
       "3  359a03ecc46240d9bc00eef58dbc85e3  6e2105d9fe   GRHLA20211119  1    \n",
       "4  7a5d79036dfb46acb7348e741ab00d9f  6e2105d9fe   GRHLA20211125  1    \n",
       "\n",
       "  a3           \n",
       "0  2021-08-01  \n",
       "1  2021-09-01  \n",
       "2  2021-09-01  \n",
       "3  2021-08-01  \n",
       "4  2021-08-01  "
      ]
     },
     "execution_count": 9,
     "metadata": {},
     "output_type": "execute_result"
    }
   ],
   "source": [
    "filepath = '.\\主表数据' + '\\\\' +'x_train.csv'\n",
    "x_train = pd.read_csv(filepath)\n",
    "x_train.head()"
   ]
  },
  {
   "cell_type": "code",
   "execution_count": 10,
   "metadata": {},
   "outputs": [
    {
     "name": "stdout",
     "output_type": "stream",
     "text": [
      "<class 'pandas.core.frame.DataFrame'>\n",
      "RangeIndex: 2386133 entries, 0 to 2386132\n",
      "Columns: 5 entries, id to a3\n",
      "dtypes: int64(1), object(4)\n",
      "memory usage: 91.0+ MB\n",
      "None\n"
     ]
    },
    {
     "data": {
      "text/html": [
       "<div>\n",
       "<style scoped>\n",
       "    .dataframe tbody tr th:only-of-type {\n",
       "        vertical-align: middle;\n",
       "    }\n",
       "\n",
       "    .dataframe tbody tr th {\n",
       "        vertical-align: top;\n",
       "    }\n",
       "\n",
       "    .dataframe thead th {\n",
       "        text-align: right;\n",
       "    }\n",
       "</style>\n",
       "<table border=\"1\" class=\"dataframe\">\n",
       "  <thead>\n",
       "    <tr style=\"text-align: left;\">\n",
       "      <th></th>\n",
       "      <th>var_names</th>\n",
       "      <th>dtypes</th>\n",
       "    </tr>\n",
       "  </thead>\n",
       "  <tbody>\n",
       "    <tr>\n",
       "      <th>0</th>\n",
       "      <td>id</td>\n",
       "      <td>object</td>\n",
       "    </tr>\n",
       "    <tr>\n",
       "      <th>1</th>\n",
       "      <td>core_cust_id</td>\n",
       "      <td>object</td>\n",
       "    </tr>\n",
       "    <tr>\n",
       "      <th>2</th>\n",
       "      <td>prod_code</td>\n",
       "      <td>object</td>\n",
       "    </tr>\n",
       "    <tr>\n",
       "      <th>3</th>\n",
       "      <td>a2</td>\n",
       "      <td>int64</td>\n",
       "    </tr>\n",
       "    <tr>\n",
       "      <th>4</th>\n",
       "      <td>a3</td>\n",
       "      <td>object</td>\n",
       "    </tr>\n",
       "  </tbody>\n",
       "</table>\n",
       "</div>"
      ],
      "text/plain": [
       "  var_names     dtypes \n",
       "0            id  object\n",
       "1  core_cust_id  object\n",
       "2     prod_code  object\n",
       "3            a2   int64\n",
       "4            a3  object"
      ]
     },
     "execution_count": 10,
     "metadata": {},
     "output_type": "execute_result"
    }
   ],
   "source": [
    "dtype = get_col_dtypes(x_train)\n",
    "dtype"
   ]
  },
  {
   "cell_type": "code",
   "execution_count": 13,
   "metadata": {},
   "outputs": [
    {
     "name": "stdout",
     "output_type": "stream",
     "text": [
      "<class 'pandas.core.frame.DataFrame'>\n",
      "RangeIndex: 2386133 entries, 0 to 2386132\n",
      "Columns: 2 entries, id to y\n",
      "dtypes: int64(1), object(1)\n",
      "memory usage: 36.4+ MB\n",
      "None\n"
     ]
    },
    {
     "data": {
      "text/html": [
       "<div>\n",
       "<style scoped>\n",
       "    .dataframe tbody tr th:only-of-type {\n",
       "        vertical-align: middle;\n",
       "    }\n",
       "\n",
       "    .dataframe tbody tr th {\n",
       "        vertical-align: top;\n",
       "    }\n",
       "\n",
       "    .dataframe thead th {\n",
       "        text-align: right;\n",
       "    }\n",
       "</style>\n",
       "<table border=\"1\" class=\"dataframe\">\n",
       "  <thead>\n",
       "    <tr style=\"text-align: left;\">\n",
       "      <th></th>\n",
       "      <th>var_names</th>\n",
       "      <th>dtypes</th>\n",
       "    </tr>\n",
       "  </thead>\n",
       "  <tbody>\n",
       "    <tr>\n",
       "      <th>0</th>\n",
       "      <td>id</td>\n",
       "      <td>object</td>\n",
       "    </tr>\n",
       "    <tr>\n",
       "      <th>1</th>\n",
       "      <td>y</td>\n",
       "      <td>int64</td>\n",
       "    </tr>\n",
       "  </tbody>\n",
       "</table>\n",
       "</div>"
      ],
      "text/plain": [
       "  var_names dtypes \n",
       "0  id        object\n",
       "1   y         int64"
      ]
     },
     "execution_count": 13,
     "metadata": {},
     "output_type": "execute_result"
    }
   ],
   "source": [
    "filepath = '.\\主表数据' + '\\\\' +'y_train.csv'\n",
    "y_train = pd.read_csv(filepath)\n",
    "dtype = get_col_dtypes(y_train)\n",
    "dtype"
   ]
  },
  {
   "cell_type": "code",
   "execution_count": 14,
   "metadata": {},
   "outputs": [
    {
     "data": {
      "text/html": [
       "<div>\n",
       "<style scoped>\n",
       "    .dataframe tbody tr th:only-of-type {\n",
       "        vertical-align: middle;\n",
       "    }\n",
       "\n",
       "    .dataframe tbody tr th {\n",
       "        vertical-align: top;\n",
       "    }\n",
       "\n",
       "    .dataframe thead th {\n",
       "        text-align: right;\n",
       "    }\n",
       "</style>\n",
       "<table border=\"1\" class=\"dataframe\">\n",
       "  <thead>\n",
       "    <tr style=\"text-align: left;\">\n",
       "      <th></th>\n",
       "      <th>id</th>\n",
       "      <th>y</th>\n",
       "    </tr>\n",
       "  </thead>\n",
       "  <tbody>\n",
       "    <tr>\n",
       "      <th>0</th>\n",
       "      <td>2ac2d441ae61453ea889ec27d08c18e8</td>\n",
       "      <td>0</td>\n",
       "    </tr>\n",
       "    <tr>\n",
       "      <th>1</th>\n",
       "      <td>60548d981cb44dbdae1b525f869e7da1</td>\n",
       "      <td>0</td>\n",
       "    </tr>\n",
       "    <tr>\n",
       "      <th>2</th>\n",
       "      <td>6780ef20021d45bbb918c00f106a75dd</td>\n",
       "      <td>0</td>\n",
       "    </tr>\n",
       "    <tr>\n",
       "      <th>3</th>\n",
       "      <td>06a4fc23d1514180b691391c63b0cc3e</td>\n",
       "      <td>0</td>\n",
       "    </tr>\n",
       "    <tr>\n",
       "      <th>4</th>\n",
       "      <td>cc5a8209771544598597752e850a23b3</td>\n",
       "      <td>0</td>\n",
       "    </tr>\n",
       "  </tbody>\n",
       "</table>\n",
       "</div>"
      ],
      "text/plain": [
       "  id                                 y\n",
       "0  2ac2d441ae61453ea889ec27d08c18e8  0\n",
       "1  60548d981cb44dbdae1b525f869e7da1  0\n",
       "2  6780ef20021d45bbb918c00f106a75dd  0\n",
       "3  06a4fc23d1514180b691391c63b0cc3e  0\n",
       "4  cc5a8209771544598597752e850a23b3  0"
      ]
     },
     "execution_count": 14,
     "metadata": {},
     "output_type": "execute_result"
    }
   ],
   "source": [
    "y_train.head()"
   ]
  },
  {
   "cell_type": "code",
   "execution_count": 15,
   "metadata": {},
   "outputs": [
    {
     "data": {
      "text/html": [
       "<div>\n",
       "<style scoped>\n",
       "    .dataframe tbody tr th:only-of-type {\n",
       "        vertical-align: middle;\n",
       "    }\n",
       "\n",
       "    .dataframe tbody tr th {\n",
       "        vertical-align: top;\n",
       "    }\n",
       "\n",
       "    .dataframe thead th {\n",
       "        text-align: right;\n",
       "    }\n",
       "</style>\n",
       "<table border=\"1\" class=\"dataframe\">\n",
       "  <thead>\n",
       "    <tr style=\"text-align: left;\">\n",
       "      <th></th>\n",
       "      <th>id</th>\n",
       "      <th>core_cust_id</th>\n",
       "      <th>prod_code</th>\n",
       "      <th>a2</th>\n",
       "      <th>a3</th>\n",
       "      <th>y</th>\n",
       "    </tr>\n",
       "  </thead>\n",
       "  <tbody>\n",
       "    <tr>\n",
       "      <th>0</th>\n",
       "      <td>4e3c3d57b83e425f8087b1d6d32a50f7</td>\n",
       "      <td>6e2105d9fe</td>\n",
       "      <td>90318011</td>\n",
       "      <td>4</td>\n",
       "      <td>2021-08-01</td>\n",
       "      <td>0</td>\n",
       "    </tr>\n",
       "    <tr>\n",
       "      <th>1</th>\n",
       "      <td>aa83c5fc05414c4d9727f0b32882f80e</td>\n",
       "      <td>6e2105d9fe</td>\n",
       "      <td>GRHLA20211530</td>\n",
       "      <td>1</td>\n",
       "      <td>2021-09-01</td>\n",
       "      <td>0</td>\n",
       "    </tr>\n",
       "    <tr>\n",
       "      <th>2</th>\n",
       "      <td>11245458ed6446cd9f88d57a5fc1d957</td>\n",
       "      <td>6e2105d9fe</td>\n",
       "      <td>DECD21090102</td>\n",
       "      <td>2</td>\n",
       "      <td>2021-09-01</td>\n",
       "      <td>0</td>\n",
       "    </tr>\n",
       "    <tr>\n",
       "      <th>3</th>\n",
       "      <td>359a03ecc46240d9bc00eef58dbc85e3</td>\n",
       "      <td>6e2105d9fe</td>\n",
       "      <td>GRHLA20211119</td>\n",
       "      <td>1</td>\n",
       "      <td>2021-08-01</td>\n",
       "      <td>0</td>\n",
       "    </tr>\n",
       "    <tr>\n",
       "      <th>4</th>\n",
       "      <td>7a5d79036dfb46acb7348e741ab00d9f</td>\n",
       "      <td>6e2105d9fe</td>\n",
       "      <td>GRHLA20211125</td>\n",
       "      <td>1</td>\n",
       "      <td>2021-08-01</td>\n",
       "      <td>0</td>\n",
       "    </tr>\n",
       "  </tbody>\n",
       "</table>\n",
       "</div>"
      ],
      "text/plain": [
       "  id                                core_cust_id prod_code       a2  \\\n",
       "0  4e3c3d57b83e425f8087b1d6d32a50f7  6e2105d9fe        90318011  4    \n",
       "1  aa83c5fc05414c4d9727f0b32882f80e  6e2105d9fe   GRHLA20211530  1    \n",
       "2  11245458ed6446cd9f88d57a5fc1d957  6e2105d9fe    DECD21090102  2    \n",
       "3  359a03ecc46240d9bc00eef58dbc85e3  6e2105d9fe   GRHLA20211119  1    \n",
       "4  7a5d79036dfb46acb7348e741ab00d9f  6e2105d9fe   GRHLA20211125  1    \n",
       "\n",
       "  a3           y  \n",
       "0  2021-08-01  0  \n",
       "1  2021-09-01  0  \n",
       "2  2021-09-01  0  \n",
       "3  2021-08-01  0  \n",
       "4  2021-08-01  0  "
      ]
     },
     "execution_count": 15,
     "metadata": {},
     "output_type": "execute_result"
    }
   ],
   "source": [
    "train = pd.merge(x_train, y_train, how='inner', on='id')\n",
    "train.head()"
   ]
  },
  {
   "cell_type": "code",
   "execution_count": 16,
   "metadata": {},
   "outputs": [
    {
     "name": "stdout",
     "output_type": "stream",
     "text": [
      "<class 'pandas.core.frame.DataFrame'>\n",
      "Int64Index: 2386133 entries, 0 to 2386132\n",
      "Columns: 6 entries, id to y\n",
      "dtypes: int64(2), object(4)\n",
      "memory usage: 127.4+ MB\n",
      "None\n"
     ]
    },
    {
     "data": {
      "text/html": [
       "<div>\n",
       "<style scoped>\n",
       "    .dataframe tbody tr th:only-of-type {\n",
       "        vertical-align: middle;\n",
       "    }\n",
       "\n",
       "    .dataframe tbody tr th {\n",
       "        vertical-align: top;\n",
       "    }\n",
       "\n",
       "    .dataframe thead th {\n",
       "        text-align: right;\n",
       "    }\n",
       "</style>\n",
       "<table border=\"1\" class=\"dataframe\">\n",
       "  <thead>\n",
       "    <tr style=\"text-align: left;\">\n",
       "      <th></th>\n",
       "      <th>var_names</th>\n",
       "      <th>dtypes</th>\n",
       "    </tr>\n",
       "  </thead>\n",
       "  <tbody>\n",
       "    <tr>\n",
       "      <th>0</th>\n",
       "      <td>id</td>\n",
       "      <td>object</td>\n",
       "    </tr>\n",
       "    <tr>\n",
       "      <th>1</th>\n",
       "      <td>core_cust_id</td>\n",
       "      <td>object</td>\n",
       "    </tr>\n",
       "    <tr>\n",
       "      <th>2</th>\n",
       "      <td>prod_code</td>\n",
       "      <td>object</td>\n",
       "    </tr>\n",
       "    <tr>\n",
       "      <th>3</th>\n",
       "      <td>a2</td>\n",
       "      <td>int64</td>\n",
       "    </tr>\n",
       "    <tr>\n",
       "      <th>4</th>\n",
       "      <td>a3</td>\n",
       "      <td>object</td>\n",
       "    </tr>\n",
       "    <tr>\n",
       "      <th>5</th>\n",
       "      <td>y</td>\n",
       "      <td>int64</td>\n",
       "    </tr>\n",
       "  </tbody>\n",
       "</table>\n",
       "</div>"
      ],
      "text/plain": [
       "  var_names     dtypes \n",
       "0            id  object\n",
       "1  core_cust_id  object\n",
       "2     prod_code  object\n",
       "3            a2   int64\n",
       "4            a3  object\n",
       "5             y   int64"
      ]
     },
     "execution_count": 16,
     "metadata": {},
     "output_type": "execute_result"
    }
   ],
   "source": [
    "dtype = get_col_dtypes(train)\n",
    "dtype"
   ]
  }
 ],
 "metadata": {
  "interpreter": {
   "hash": "2ae9f92d1a19527aa82e85442fc943cadca02cdf7197f925cc26292ecddf8930"
  },
  "kernelspec": {
   "display_name": "Python 3.9.7 64-bit ('base': conda)",
   "language": "python",
   "name": "python3"
  },
  "language_info": {
   "codemirror_mode": {
    "name": "ipython",
    "version": 3
   },
   "file_extension": ".py",
   "mimetype": "text/x-python",
   "name": "python",
   "nbconvert_exporter": "python",
   "pygments_lexer": "ipython3",
   "version": "3.9.7"
  },
  "orig_nbformat": 4
 },
 "nbformat": 4,
 "nbformat_minor": 2
}
